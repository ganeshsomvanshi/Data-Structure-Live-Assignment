{
 "cells": [
  {
   "cell_type": "code",
   "execution_count": 2,
   "id": "948693da-22c7-4681-a29a-678446cc1ecc",
   "metadata": {},
   "outputs": [
    {
     "name": "stdin",
     "output_type": "stream",
     "text": [
      "Enter a string Ganesh\n"
     ]
    },
    {
     "name": "stdout",
     "output_type": "stream",
     "text": [
      "The reverse string is : hsenaG\n"
     ]
    }
   ],
   "source": [
    "#Q1 Write a code to reverse a string\n",
    "\n",
    "\n",
    "string1=input(\"Enter a string\")\n",
    "s=\"\"\n",
    "if string1==\"\":\n",
    " print(\"Enter a non-empty string\")\n",
    "else:\n",
    " for i in string1:\n",
    "     s=i+s\n",
    " print(f\"The reverse string is : {s}\") "
   ]
  },
  {
   "cell_type": "code",
   "execution_count": null,
   "id": "ef7bc04b-dd88-484a-be98-8a1f745580c4",
   "metadata": {},
   "outputs": [],
   "source": []
  },
  {
   "cell_type": "code",
   "execution_count": 4,
   "id": "b20f0f28-6d67-4112-b8e1-f4162d443ae3",
   "metadata": {},
   "outputs": [
    {
     "name": "stdin",
     "output_type": "stream",
     "text": [
      "Enter a string aaeeoogg\n"
     ]
    },
    {
     "name": "stdout",
     "output_type": "stream",
     "text": [
      " The number of vowels present in the string is 6\n"
     ]
    }
   ],
   "source": [
    "#Q2 Write a code to count the number of vowels in given string.\n",
    "\n",
    "\n",
    "string1=input(\"Enter a string\")\n",
    "s=0\n",
    "if string1==\"\":\n",
    " print(\"Enter a non empty string\")\n",
    "else:\n",
    " for i in string1:\n",
    "     if i in ['a','e','i','o','u']:\n",
    "         s=s+1\n",
    " print(f\" The number of vowels present in the string is {s}\")"
   ]
  },
  {
   "cell_type": "code",
   "execution_count": null,
   "id": "c08f538b-f178-4268-90e8-cbbf0eab59d9",
   "metadata": {},
   "outputs": [],
   "source": []
  },
  {
   "cell_type": "code",
   "execution_count": 7,
   "id": "9d7b8454-3fb8-47e3-87bc-04ae8fb29ac8",
   "metadata": {},
   "outputs": [
    {
     "name": "stdin",
     "output_type": "stream",
     "text": [
      "Enter a string nalan\n"
     ]
    },
    {
     "name": "stdout",
     "output_type": "stream",
     "text": [
      "The Entered String nalan is palindrome\n"
     ]
    }
   ],
   "source": [
    "#Q3 Write a code to check if the given string in palindrome\n",
    "string1=input(\"Enter a string\")\n",
    "s=\"\"\n",
    "if string1==\"\":\n",
    " print(\"Enter a non empty string\")\n",
    "else:\n",
    " for i in string1:\n",
    "     s=i+s\n",
    "if string1.lower()==s.lower():\n",
    "    print(f\"The Entered String {string1} is palindrome\")\n",
    "else:\n",
    "    print(f\"The Entered String {string1} is not a palindrome\") "
   ]
  },
  {
   "cell_type": "code",
   "execution_count": null,
   "id": "b45317e5-e9d7-4681-a998-d010d656c6c4",
   "metadata": {},
   "outputs": [],
   "source": []
  },
  {
   "cell_type": "code",
   "execution_count": 8,
   "id": "b208ee8a-4b38-48d3-a198-f2a3423c0d4c",
   "metadata": {},
   "outputs": [
    {
     "name": "stdin",
     "output_type": "stream",
     "text": [
      "Enter a string1 Ganesh\n",
      "Enter a string2 sneahg\n"
     ]
    },
    {
     "name": "stdout",
     "output_type": "stream",
     "text": [
      "The entered strings Ganesh and sneahg are anagrams of each other\n"
     ]
    }
   ],
   "source": [
    "#Q4 Write a code to check if two given strings are anagrams of each other.\n",
    "string1=input(\"Enter a string1\")\n",
    "string2=input(\"Enter a string2\")\n",
    "if string1==\"\" and string2==\"\":\n",
    " print(\"Enter non-empty strings\")\n",
    "else:\n",
    " if sorted(string1.lower())==sorted(string2.lower()):\n",
    "     print(f\"The entered strings {string1} and {string2} are anagrams of each other\")\n",
    " else:\n",
    "     print(f\"The entered strings {string1} and {string2} are not anagrams of each other\") "
   ]
  },
  {
   "cell_type": "code",
   "execution_count": null,
   "id": "48b94fd8-a6e6-4384-9ec2-6020b33ced50",
   "metadata": {},
   "outputs": [],
   "source": []
  },
  {
   "cell_type": "code",
   "execution_count": 9,
   "id": "b31db394-2941-46e3-b923-68803010f6be",
   "metadata": {},
   "outputs": [
    {
     "name": "stdin",
     "output_type": "stream",
     "text": [
      "Enter a string1 HelloHelloHello\n",
      "Enter a substring ello\n"
     ]
    },
    {
     "name": "stdout",
     "output_type": "stream",
     "text": [
      " The starting positions of all the substring present in the string are [1, 6, 11]\n"
     ]
    }
   ],
   "source": [
    "#Q5 Write a code to find all occurences of a given substring within another string\n",
    "string=input(\"Enter a string1\")\n",
    "substring=input(\"Enter a substring\")\n",
    "position=[]\n",
    "if string1==\"\" or string2==\"\":\n",
    " print(\"Enter non-empty strings\")\n",
    "else :\n",
    " position=[ i for i in range(len(string)) if string.startswith(substring,i)]\n",
    " print(f\" The starting positions of all the substring present in the string are {position}\")"
   ]
  },
  {
   "cell_type": "code",
   "execution_count": null,
   "id": "ca967834-58e7-47ca-baa9-cda443a2df9e",
   "metadata": {},
   "outputs": [],
   "source": []
  },
  {
   "cell_type": "code",
   "execution_count": 12,
   "id": "c8c967a2-0cc4-47b0-8797-849980804f64",
   "metadata": {},
   "outputs": [
    {
     "name": "stdin",
     "output_type": "stream",
     "text": [
      "Enter a String Ganesh\n"
     ]
    },
    {
     "name": "stdout",
     "output_type": "stream",
     "text": [
      "Compressed string is a1e1g1h1n1s1\n"
     ]
    }
   ],
   "source": [
    "#Q6 Write a code to perform basic string compression using the count of repeated characters\n",
    "\n",
    "string1= input(\"Enter a String\")\n",
    "string1=string1.lower()\n",
    "s=\"\"\n",
    "count=1\n",
    "if string1==\"\":\n",
    "    print(\"Enter a non-empty string\")\n",
    "else:\n",
    "    string1=sorted(string1.lower())\n",
    "    for i in range(0,len(string1)-1):\n",
    "        if string1[i]==string1[i+1]:\n",
    "            count=count+1\n",
    "        else :\n",
    "            s=s+string1[i]+ str(count)\n",
    "            count=1\n",
    "s=s+string1[-1]+str(count)   \n",
    "print(f\"Compressed string is {s}\")\n"
   ]
  },
  {
   "cell_type": "code",
   "execution_count": null,
   "id": "06238ee9-a3a0-488a-9fe8-9d8457c24532",
   "metadata": {},
   "outputs": [],
   "source": []
  },
  {
   "cell_type": "code",
   "execution_count": 14,
   "id": "59225853-8637-47e5-a7b5-e895aa4f69d1",
   "metadata": {},
   "outputs": [
    {
     "name": "stdin",
     "output_type": "stream",
     "text": [
      "Enter a String Ganesh\n"
     ]
    },
    {
     "name": "stdout",
     "output_type": "stream",
     "text": [
      "All characters in the entered string are unique\n"
     ]
    }
   ],
   "source": [
    "#Q7 Write a code to determine if a string has all unique characters\n",
    "\n",
    "string1= input(\"Enter a String\")\n",
    "string1=string1.lower()\n",
    "l1=[]\n",
    "s1={}\n",
    "s=\"\"\n",
    "\n",
    "if string1==\"\":\n",
    "    print(\"Enter a non-empty string\")\n",
    "else:\n",
    "    l1=list(string1)\n",
    "    s1=set(string1)\n",
    "    if len(l1)==len(s1):\n",
    "        print(\"All characters in the entered string are unique\")\n",
    "    else:\n",
    "        print(\"Characters in the strings are not unique\")                     \n"
   ]
  },
  {
   "cell_type": "code",
   "execution_count": null,
   "id": "1c5dffd8-d309-4beb-8ba8-7b68b04af99c",
   "metadata": {},
   "outputs": [],
   "source": []
  },
  {
   "cell_type": "code",
   "execution_count": 15,
   "id": "d13f7f8d-e2d2-45bc-939e-99ea4350f36f",
   "metadata": {},
   "outputs": [
    {
     "name": "stdin",
     "output_type": "stream",
     "text": [
      "Enter a String Hello World\n"
     ]
    },
    {
     "name": "stdout",
     "output_type": "stream",
     "text": [
      "Lower case for the entered string is hello world\n",
      "Upper case for the entered string is HELLO WORLD\n"
     ]
    }
   ],
   "source": [
    "#Q8 Write a code to convert a giveen string to uppercase or lowercase.\n",
    "\n",
    "string1= input(\"Enter a String\")\n",
    "if string1==\"\":\n",
    "    print(\"Enter a non-empty string\")\n",
    "else:\n",
    "    print(f\"Lower case for the entered string is {string1.lower()}\")\n",
    "    print(f\"Upper case for the entered string is {string1.upper()}\") \n"
   ]
  },
  {
   "cell_type": "code",
   "execution_count": null,
   "id": "6005ee48-ab81-406c-8599-a410ef7719fe",
   "metadata": {},
   "outputs": [],
   "source": []
  },
  {
   "cell_type": "code",
   "execution_count": 16,
   "id": "0d6cb4f2-c012-4e28-80f8-9eb088cfe153",
   "metadata": {},
   "outputs": [
    {
     "name": "stdin",
     "output_type": "stream",
     "text": [
      "Enter a String Hello World Good Morning\n"
     ]
    },
    {
     "name": "stdout",
     "output_type": "stream",
     "text": [
      "The number of words in entered string is 4\n"
     ]
    }
   ],
   "source": [
    "#Q9 Write a code to count the number of words in a string.\n",
    "\n",
    "string1= input(\"Enter a String\")\n",
    "count=0\n",
    "if string1==\"\":\n",
    "    print(\"Enter a non-empty string\")\n",
    "else:\n",
    "   count=len(string1.split())\n",
    "print(f\"The number of words in entered string is {count}\") \n"
   ]
  },
  {
   "cell_type": "code",
   "execution_count": null,
   "id": "95b58f8d-cbcc-409f-a1d5-5bbce432a514",
   "metadata": {},
   "outputs": [],
   "source": []
  },
  {
   "cell_type": "code",
   "execution_count": 17,
   "id": "8379ecc3-d9c2-40d8-9c42-639217a7db29",
   "metadata": {},
   "outputs": [
    {
     "name": "stdin",
     "output_type": "stream",
     "text": [
      "Enter a non-empty String hello \n",
      "Enter another non-empty String world\n"
     ]
    },
    {
     "name": "stdout",
     "output_type": "stream",
     "text": [
      "The concatenated string is hello world\n"
     ]
    }
   ],
   "source": [
    "#Q10 Write a code to concatenate two strings without using the + operator.\n",
    "\n",
    "string1= input(\"Enter a non-empty String\")\n",
    "string2= input(\"Enter another non-empty String\")\n",
    "if (string1==\"\") or (string2==\"\"):\n",
    "                     print(\"Enter non-empty strings\")\n",
    "else :\n",
    "    nstring= \"\" .join([string1,string2])\n",
    "    print(f\"The concatenated string is {nstring}\") \n"
   ]
  },
  {
   "cell_type": "code",
   "execution_count": null,
   "id": "1257027c-682c-4192-91c7-b8a74c8b8199",
   "metadata": {},
   "outputs": [],
   "source": []
  },
  {
   "cell_type": "code",
   "execution_count": 19,
   "id": "b502fa5c-9142-4475-b666-303bdb584ec3",
   "metadata": {},
   "outputs": [
    {
     "name": "stdout",
     "output_type": "stream",
     "text": [
      "Original list : [1, 2, 5, 3, 5, 1, 2, 4, 'A', 'b', 'c']\n"
     ]
    },
    {
     "name": "stdin",
     "output_type": "stream",
     "text": [
      "Enter the value which needs to be removed A\n"
     ]
    },
    {
     "name": "stdout",
     "output_type": "stream",
     "text": [
      "List after removing the element is : [1, 2, 5, 3, 5, 1, 2, 4, 'b', 'c']\n"
     ]
    }
   ],
   "source": [
    "#Q11 Write a code to remove all occurrences of a specific element from a list.\n",
    "\n",
    "val = [1,2,5,3,5,1,2,4,\"A\",\"b\",\"c\"]\n",
    "print (\"Original list :\" ,val)\n",
    "\n",
    "a=input(\"Enter the value which needs to be removed\")\n",
    "if a.isnumeric():                            #check if the value is numerical\n",
    "    a=float(a)                               #converting into numeric as the value taken from user is in string format\n",
    "    \n",
    "    \n",
    "c = val.count(a)\n",
    "for i in range(c):\n",
    "    val.remove(a)\n",
    "print (\"List after removing the element is :\" , val)  \n"
   ]
  },
  {
   "cell_type": "code",
   "execution_count": null,
   "id": "ed8f8a05-c577-45dc-b4df-7181eca9eb9a",
   "metadata": {},
   "outputs": [],
   "source": []
  },
  {
   "cell_type": "code",
   "execution_count": 20,
   "id": "1113f034-af71-43b1-80c5-1c145ec8f86d",
   "metadata": {},
   "outputs": [
    {
     "name": "stdin",
     "output_type": "stream",
     "text": [
      "Enter the length of list you wish to create for integers 5\n",
      "Input the integer that needs to be present in list 1\n",
      "Input the integer that needs to be present in list 2\n",
      "Input the integer that needs to be present in list 3\n",
      "Input the integer that needs to be present in list 44\n",
      "Input the integer that needs to be present in list 5\n"
     ]
    },
    {
     "name": "stdout",
     "output_type": "stream",
     "text": [
      "The entered list is : [1, 2, 3, 44, 5]\n",
      "The second largest number present in the list is 5\n"
     ]
    }
   ],
   "source": [
    "#Q12 Implement a code to find the second largest number in a given list of integers.\n",
    "\n",
    "n=int(input(\"Enter the length of list you wish to create for integers\"))     #To take input as list from user\n",
    "list=[]\n",
    "if n==\"\" or n==0:\n",
    "    print(\"The length should be positive\")\n",
    "else:\n",
    "    for i in range(n):\n",
    "        e=int(input(\"Input the integer that needs to be present in list\"))\n",
    "        list.append(e)\n",
    "print(f\"The entered list is : {list}\")\n",
    "list.remove(max(list))                       #We can make a copy a list to keep the original list as it is if require to use in future\n",
    "print(f\"The second largest number present in the list is {max(list)}\") \n"
   ]
  },
  {
   "cell_type": "code",
   "execution_count": null,
   "id": "76b5824e-2d90-4d10-9a26-258b0977fc8c",
   "metadata": {},
   "outputs": [],
   "source": []
  },
  {
   "cell_type": "code",
   "execution_count": 22,
   "id": "0d867e5c-520d-454b-87bd-3387c0ceab8f",
   "metadata": {},
   "outputs": [
    {
     "name": "stdin",
     "output_type": "stream",
     "text": [
      "Enter the length of list you wish to create 6\n",
      "Input the integer that needs to be present in list 1\n",
      "Input the integer that needs to be present in list 1\n",
      "Input the integer that needs to be present in list 1\n",
      "Input the integer that needs to be present in list 2\n",
      "Input the integer that needs to be present in list 2\n",
      "Input the integer that needs to be present in list 2\n"
     ]
    },
    {
     "name": "stdout",
     "output_type": "stream",
     "text": [
      "The entered list is ['1', '1', '1', '2', '2', '2']\n",
      "{'1': 3, '2': 3}\n"
     ]
    }
   ],
   "source": [
    "#Q13 Create a code to count the occurences of each element in the list & return a dictionary with elements\n",
    "#    as keys and their counts as values.\n",
    "\n",
    "n=int(input(\"Enter the length of list you wish to create\"))\n",
    "list=[]\n",
    "S={}\n",
    "if n==\"\" or n==0:\n",
    "    print(\"The length should be positive\")\n",
    "else:\n",
    "    for i in range(n):\n",
    "        e=input(\"Input the integer that needs to be present in list\")\n",
    "        list.append(e)\n",
    "\n",
    "print(f\"The entered list is {list}\")\n",
    "\n",
    "for i in list:\n",
    "    S[i]=list.count(i)\n",
    "\n",
    "print(S) \n"
   ]
  },
  {
   "cell_type": "code",
   "execution_count": null,
   "id": "1d73dd99-131e-4672-8651-d4b1a3dc030a",
   "metadata": {},
   "outputs": [],
   "source": []
  },
  {
   "cell_type": "code",
   "execution_count": 24,
   "id": "5df448db-f8c7-402e-a6d4-a3ee4b0bff13",
   "metadata": {},
   "outputs": [
    {
     "name": "stdin",
     "output_type": "stream",
     "text": [
      "Enter the length of list you wish to create 5\n",
      "Input the integer that needs to be present in list 1\n",
      "Input the integer that needs to be present in list 2\n",
      "Input the integer that needs to be present in list 3\n",
      "Input the integer that needs to be present in list 4\n",
      "Input the integer that needs to be present in list 5\n"
     ]
    },
    {
     "name": "stdout",
     "output_type": "stream",
     "text": [
      "The entered list is ['1', '2', '3', '4', '5']\n",
      "The reversed string is  ['5', '4', '3', '2', '1']\n"
     ]
    }
   ],
   "source": [
    "#Q14 Write a code to reverse a list in-place without using an built-in reversee function.\n",
    "\n",
    "n=int(input(\"Enter the length of list you wish to create\"))\n",
    "list=[]\n",
    "S=[]\n",
    "if n==\"\" or n==0:\n",
    "    print(\"The length should be positive\")\n",
    "else:\n",
    "    for i in range(n):\n",
    "        e=input(\"Input the integer that needs to be present in list\")\n",
    "        list.append(e)\n",
    "\n",
    "print(f\"The entered list is {list}\")\n",
    "\n",
    "for i in range(1,len(list)+1):\n",
    "    S.append(list[-i])\n",
    "    \n",
    "\n",
    "print(f\"The reversed string is  {S}\")\n"
   ]
  },
  {
   "cell_type": "code",
   "execution_count": null,
   "id": "a6fcf12b-e203-4f4a-93b7-0fcd6701cfa6",
   "metadata": {},
   "outputs": [],
   "source": []
  },
  {
   "cell_type": "code",
   "execution_count": 25,
   "id": "ed1cd470-a519-4b23-84f9-09d86b2d14fc",
   "metadata": {},
   "outputs": [
    {
     "name": "stdin",
     "output_type": "stream",
     "text": [
      "Enter the length of list you wish to create 5\n",
      "Input the integer that needs to be present in list 1\n",
      "Input the integer that needs to be present in list 1\n",
      "Input the integer that needs to be present in list 2\n",
      "Input the integer that needs to be present in list 2\n",
      "Input the integer that needs to be present in list 3\n"
     ]
    },
    {
     "name": "stdout",
     "output_type": "stream",
     "text": [
      "The entered list is ['1', '1', '2', '2', '3']\n",
      "The list after removing duplicates is ['1', '2', '3']\n"
     ]
    }
   ],
   "source": [
    "#Q15  Implement a code to find and remove duplicate from a list while preserving the original order of elements\n",
    "\n",
    "n=int(input(\"Enter the length of list you wish to create\"))          # A function with parameters can also be created instead taking the input one by one\n",
    "list=[]\n",
    "S=[]\n",
    "if n==\"\" or n==0:\n",
    "    print(\"The length should be positive\") \n",
    "else:\n",
    "    for i in range(n):\n",
    "        e=input(\"Input the integer that needs to be present in list\")\n",
    "        list.append(e)\n",
    "\n",
    "print(f\"The entered list is {list}\")\n",
    "\n",
    "for i in list:\n",
    "    if i not in S:\n",
    "        S.append(i)\n",
    "\n",
    "print(f\"The list after removing duplicates is {S}\")                                                              \n"
   ]
  },
  {
   "cell_type": "code",
   "execution_count": null,
   "id": "87a06318-9c4e-459b-b952-5fd60b498831",
   "metadata": {},
   "outputs": [],
   "source": []
  },
  {
   "cell_type": "code",
   "execution_count": 26,
   "id": "e6c7707e-de84-4c2b-81c1-a134202caf7f",
   "metadata": {},
   "outputs": [
    {
     "name": "stdout",
     "output_type": "stream",
     "text": [
      "The list is sorted in descending order\n"
     ]
    }
   ],
   "source": [
    "#Q16  Create a code to check if a given list is sorted (either in ascending or descending order) or not.\n",
    "\n",
    "def is_sorted(lst):                                  #defining the function for this example\n",
    "    # Check if the list is sorted in ascending order\n",
    "    is_ascending = all(lst[i] <= lst[i + 1] for i in range(len(lst) - 1))\n",
    "    \n",
    "    # Check if the list is sorted in descending order\n",
    "    is_descending =all(lst[i] >= lst[i + 1] for i in range(len(lst) - 1))\n",
    "\n",
    "    if is_ascending:\n",
    "        print(\"The list is sorted in ascending order\")\n",
    "    elif is_descending:\n",
    "        print(\"The list is sorted in descending order\")\n",
    "    else:\n",
    "        print(\"The list is not sorted\")\n",
    "        \n",
    "    \n",
    "is_sorted([7,5,4,3,2,1])                                        \n",
    "\n"
   ]
  },
  {
   "cell_type": "code",
   "execution_count": null,
   "id": "41ff84e7-d916-4885-8934-8ac906b63bb4",
   "metadata": {},
   "outputs": [],
   "source": []
  },
  {
   "cell_type": "code",
   "execution_count": 30,
   "id": "93737036-e5a3-4161-88f2-0c908e2332c1",
   "metadata": {},
   "outputs": [
    {
     "name": "stdout",
     "output_type": "stream",
     "text": [
      "The combined sorted list is  [1, 2, 3, 4, 7, 8, 9]\n"
     ]
    }
   ],
   "source": [
    "#Q17 Write a code to merge two sorted lists into a single sorted list.\n",
    "\n",
    "list3=[]\n",
    "def lists_merge_sorted(list1,list2):\n",
    "    list3=list1+list2\n",
    "    list3=sorted(list3)\n",
    "    print(f\"The combined sorted list is  {list3}\")\n",
    "\n",
    "lists_merge_sorted([1,2,3,4],[9,8,7])"
   ]
  },
  {
   "cell_type": "code",
   "execution_count": null,
   "id": "093abbbb-b917-462e-a0d4-ecd5aef2387e",
   "metadata": {},
   "outputs": [],
   "source": []
  },
  {
   "cell_type": "code",
   "execution_count": 38,
   "id": "e562dda6-60e6-4a93-b1fc-cbea2cc9cc42",
   "metadata": {},
   "outputs": [
    {
     "name": "stdout",
     "output_type": "stream",
     "text": [
      "The intersection of the given two lists is :  [1, 2, 3, 4]\n"
     ]
    }
   ],
   "source": [
    "#Q18 Implement a code to find the intersection of two given lists.\n",
    "\n",
    "def intersection(list1,list2):\n",
    "    print(f\"The intersection of the given two lists is :  {[x for x in list1 if x in list2]}\")\n",
    "\n",
    "intersection([1,2,3,4,5],[1,2,3,7,8,9,4])"
   ]
  },
  {
   "cell_type": "code",
   "execution_count": null,
   "id": "0ab512ac-64a8-4eb7-a5e2-b7b1d474aece",
   "metadata": {},
   "outputs": [],
   "source": []
  },
  {
   "cell_type": "code",
   "execution_count": 3,
   "id": "11e8b385-95b6-4bdd-8423-501283282e15",
   "metadata": {},
   "outputs": [
    {
     "data": {
      "text/plain": [
       "[1, 2, 3, 4, 5]"
      ]
     },
     "execution_count": 3,
     "metadata": {},
     "output_type": "execute_result"
    }
   ],
   "source": [
    "#Q19 Create a code to find the union of two lists without duplicates.\n",
    "list3=[]\n",
    "def union_lists(list1,list2):\n",
    "    s1=set(list1)\n",
    "    s2=set(list2)\n",
    "   \n",
    "    union_list=(s1.union(s2))\n",
    "    return(union_list)\n",
    "    \n",
    "list(union_lists([1,2,1,1,1,2,1],[3,3,4,3,4,3,5,]))"
   ]
  },
  {
   "cell_type": "code",
   "execution_count": null,
   "id": "cff7ddd7-76b3-4cc3-85fd-738cb9b4e971",
   "metadata": {},
   "outputs": [],
   "source": [
    "\n"
   ]
  },
  {
   "cell_type": "code",
   "execution_count": 19,
   "id": "75591453-b7b4-4101-8531-d6f1cce148a8",
   "metadata": {},
   "outputs": [
    {
     "data": {
      "text/plain": [
       "[5, 3, 0, 8, 4, 7]"
      ]
     },
     "execution_count": 19,
     "metadata": {},
     "output_type": "execute_result"
    }
   ],
   "source": [
    "#20 Write a code to shuffle a list without using random built-in function.\n",
    "\n",
    "def random_list(l1):\n",
    "    for i in range(len(l1)-1, 0, -1): \n",
    "        j = (i+1) // 2  # or any other calculation to get a pseudo-random index \n",
    "        l1[i], l1[j] = l1[j], l1[i] \n",
    "    return l1\n",
    "\n",
    "random_list([5,0,4,7,8,3])"
   ]
  },
  {
   "cell_type": "code",
   "execution_count": null,
   "id": "ac0f4daa-33ac-4754-a84f-a4ea399da52c",
   "metadata": {},
   "outputs": [],
   "source": []
  },
  {
   "cell_type": "code",
   "execution_count": 15,
   "id": "b90935f7-e50a-421d-8740-feb500da6a84",
   "metadata": {},
   "outputs": [
    {
     "name": "stdin",
     "output_type": "stream",
     "text": [
      "Enter comma seperated values for first tuple :  a,b,c,d,e,f\n",
      "Enter comma seperated values for second tuple:  a,b,c\n"
     ]
    },
    {
     "name": "stdout",
     "output_type": "stream",
     "text": [
      "The values that are common in both tuples are ('c', 'b', 'a')\n"
     ]
    }
   ],
   "source": [
    "#Q21 Write a code that takes two input as a tuple & return a new tuple containing elements that are common to both input tuples\n",
    "\n",
    "t1=tuple(input('Enter comma seperated values for first tuple : ').split(\",\"))\n",
    "t2=tuple(input('Enter comma seperated values for second tuple: ').split(\",\"))\n",
    "s1=set(t1)\n",
    "s2=set(t2)\n",
    "s=tuple(s1&s2)\n",
    "print(f\"The values that are common in both tuples are {s}\")"
   ]
  },
  {
   "cell_type": "code",
   "execution_count": null,
   "id": "e8f48529-83ee-4dab-a076-69057c2d945b",
   "metadata": {},
   "outputs": [],
   "source": [
    "\n",
    "\n"
   ]
  },
  {
   "cell_type": "code",
   "execution_count": 19,
   "id": "40a078b7-3532-49a6-a825-b8e20c82fd40",
   "metadata": {},
   "outputs": [
    {
     "name": "stdin",
     "output_type": "stream",
     "text": [
      "Enter comma seperated values for first set :  1,2,3,4,5,6\n",
      "Enter comma seperated values for second set :  1,2,3\n"
     ]
    },
    {
     "name": "stdout",
     "output_type": "stream",
     "text": [
      "The intersection of two sets is : {'3', '2', '1'}\n"
     ]
    }
   ],
   "source": [
    "#Q22 Create a code that prompts the user to enter two sets of integers seperated by commas. Then print the intersection of two sets\n",
    "\n",
    "s1=set(input('Enter comma seperated values for first set : ').split(\",\"))\n",
    "s2=set(input('Enter comma seperated values for second set : ').split(\",\"))\n",
    "print(f\"The intersection of two sets is : {s1&s2}\")"
   ]
  },
  {
   "cell_type": "code",
   "execution_count": null,
   "id": "4f329e26-dd19-4533-b6ef-170812f97904",
   "metadata": {},
   "outputs": [],
   "source": [
    "\n"
   ]
  },
  {
   "cell_type": "code",
   "execution_count": 22,
   "id": "635592c1-e331-44e2-a965-b66f8a56ecfe",
   "metadata": {},
   "outputs": [
    {
     "data": {
      "text/plain": [
       "(1, 2, 3, 4, 5, 6)"
      ]
     },
     "execution_count": 22,
     "metadata": {},
     "output_type": "execute_result"
    }
   ],
   "source": [
    "#Q23 Write a code to concatenate two tuples. The function should take two tuples in input and return a new\n",
    "#    tuple containing elements from both input tuples.\n",
    "\n",
    "def concatenate_tuple(t1,t2):\n",
    "    return t1+t2\n",
    "\n",
    "\n",
    "concatenate_tuple((1,2,3,4),(5,6))"
   ]
  },
  {
   "cell_type": "code",
   "execution_count": null,
   "id": "24ee2d84-de47-41bd-8326-56ed635da435",
   "metadata": {},
   "outputs": [],
   "source": [
    "\n",
    "\n",
    "\n"
   ]
  },
  {
   "cell_type": "code",
   "execution_count": 1,
   "id": "587682bc-4994-47d5-b18f-483b34648236",
   "metadata": {},
   "outputs": [
    {
     "name": "stdin",
     "output_type": "stream",
     "text": [
      "Enter comma seperated values for first set :  a,b,c,d,e\n",
      "Enter comma seperated values for second set :  f,g,e,d\n"
     ]
    },
    {
     "name": "stdout",
     "output_type": "stream",
     "text": [
      "The elements that are present in first set but not in second are  {'c', 'a', 'b'}\n"
     ]
    }
   ],
   "source": [
    "#Q24 Develop a code that prompts users to input two sets of string. Then print the element that are present in first set\n",
    "#    but not in second\n",
    "\n",
    "s1=set(input('Enter comma seperated values for first set : ').split(\",\"))\n",
    "s2=set(input('Enter comma seperated values for second set : ').split(\",\"))\n",
    "\n",
    "print(f\"The elements that are present in first set but not in second are  {s1-s2}\")\n"
   ]
  },
  {
   "cell_type": "code",
   "execution_count": null,
   "id": "c88f7bdf-62b8-4344-b33e-5f160f790230",
   "metadata": {},
   "outputs": [],
   "source": [
    "\n",
    "\n",
    "\n",
    "\n"
   ]
  },
  {
   "cell_type": "code",
   "execution_count": 7,
   "id": "da636181-66d8-402e-8f78-c51f58544893",
   "metadata": {},
   "outputs": [
    {
     "name": "stdin",
     "output_type": "stream",
     "text": [
      "Enter comma seperated values for tuple :  1,2,3,4,5,6,7,8,9\n",
      "Enter the first number 2\n",
      "Enter the second number 6\n"
     ]
    },
    {
     "name": "stdout",
     "output_type": "stream",
     "text": [
      "The tuple with given indices is ('3', '4', '5', '6')\n"
     ]
    }
   ],
   "source": [
    "#Q25 Create a code that takes a tuple & two integers as input. The function should return a new tuple containing\n",
    "#    elements from the original tuple within a specified range of indices\n",
    "\n",
    "t1=tuple(input('Enter comma seperated values for tuple : ').split(\",\"))\n",
    "s1=int(input(\"Enter the first number\"))\n",
    "s2=int(input(\"Enter the second number\"))\n",
    "\n",
    "if s1>s2:\n",
    "    sint=s2    #start integer\n",
    "    eint=s1    #end integer\n",
    "else:\n",
    "    sint=s1\n",
    "    eint=s2\n",
    "\n",
    "if sint<0:\n",
    "    sint=0 \n",
    "if eint>len(t1):\n",
    "    eint=len(int)\n",
    "\n",
    "print(f\"The tuple with given indices is {t1[sint:eint]}\")\n",
    "    "
   ]
  },
  {
   "cell_type": "code",
   "execution_count": null,
   "id": "93bc4a2b-5d19-4cd5-a991-f8a661d1e4fe",
   "metadata": {},
   "outputs": [],
   "source": [
    "\n",
    "\n"
   ]
  },
  {
   "cell_type": "code",
   "execution_count": 8,
   "id": "f2c24422-f548-440c-8561-cfb8ab52acc0",
   "metadata": {},
   "outputs": [
    {
     "name": "stdin",
     "output_type": "stream",
     "text": [
      "Enter comma seperated values for first set :  a,b,c,d,e\n",
      "Enter comma seperated values for second set :  e,f,g,h\n"
     ]
    },
    {
     "name": "stdout",
     "output_type": "stream",
     "text": [
      "The union of two sets if  {'g', 'a', 'b', 'e', 'f', 'c', 'd', 'h'}\n"
     ]
    }
   ],
   "source": [
    "#Q26 Write a code that prompts the users to input two sets of characters. Then print the union of these two sets.\n",
    "\n",
    "s1=set(input('Enter comma seperated values for first set : ').split(\",\"))\n",
    "s2=set(input('Enter comma seperated values for second set : ').split(\",\"))\n",
    "\n",
    "print(f\"The union of two sets if  {s1|s2}\")\n"
   ]
  },
  {
   "cell_type": "code",
   "execution_count": null,
   "id": "62ea97d0-5ea6-4fd1-88a8-59fa254f2fda",
   "metadata": {},
   "outputs": [],
   "source": [
    "\n",
    "\n"
   ]
  },
  {
   "cell_type": "code",
   "execution_count": 4,
   "id": "6c14ef95-4864-4deb-8ebd-70e625a2bc1b",
   "metadata": {},
   "outputs": [
    {
     "name": "stdin",
     "output_type": "stream",
     "text": [
      "Enter comma seperated values for tuple :  1,2,3,4,5,6,7,8,0\n"
     ]
    },
    {
     "name": "stdout",
     "output_type": "stream",
     "text": [
      "The maximum value & minimum value of the tuple is : ('8', '0') respectively\n"
     ]
    }
   ],
   "source": [
    "#Q27 Develop a code that takes tuples of integers as input. The function should return maximum & minimum values\n",
    "# from the tuple using tuple unpacking\n",
    "\n",
    "def max_min(*x):\n",
    "    max_val=max(*x)\n",
    "    min_val=min(*x)\n",
    "    return max_val,min_val\n",
    "\n",
    "\n",
    "t1=tuple(input('Enter comma seperated values for tuple : ').split(\",\"))\n",
    "print(f\"The maximum value & minimum value of the tuple is : {max_min(t1)} respectively\")"
   ]
  },
  {
   "cell_type": "code",
   "execution_count": null,
   "id": "d181fc5c-919b-4e15-8392-0902659f5491",
   "metadata": {},
   "outputs": [],
   "source": [
    "\n",
    "\n"
   ]
  },
  {
   "cell_type": "code",
   "execution_count": 5,
   "id": "bcc045f9-5b68-42e6-a5ec-789d8f2b0909",
   "metadata": {},
   "outputs": [
    {
     "name": "stdout",
     "output_type": "stream",
     "text": [
      "The union of two sets is {1, 2, 3, 4, 5, 6, 7, 8, 9, 10}\n",
      "The intersection of two sets is {8, 2, 4, 6}\n",
      "The difference between first set & second is  {1, 3, 5, 7, 9}\n",
      "The difference between second set & first is  {1, 3, 5, 7, 9}\n"
     ]
    }
   ],
   "source": [
    "#Q28 Create a code that defines a two sets of integers.Then print the union, intersection & difference of the two sets\n",
    "\n",
    "s1={1,2,3,4,5,6,7,8,9}\n",
    "s2={2,4,6,8,10}              #defining set\n",
    "\n",
    "print(f\"The union of two sets is {s1|s2}\")\n",
    "print(f\"The intersection of two sets is {s1&s2}\")\n",
    "print(f\"The difference between first set & second is  {s1-s2}\")\n",
    "print(f\"The difference between second set & first is  {s1-s2}\")\n"
   ]
  },
  {
   "cell_type": "code",
   "execution_count": null,
   "id": "47a96574-ac35-410e-b53f-c9b62bc7fbff",
   "metadata": {},
   "outputs": [],
   "source": [
    "\n",
    "\n"
   ]
  },
  {
   "cell_type": "code",
   "execution_count": 10,
   "id": "9d2a5769-23bc-4f42-bc77-127729a7d1f5",
   "metadata": {},
   "outputs": [
    {
     "name": "stdin",
     "output_type": "stream",
     "text": [
      "Enter comma seperated values for tuple :  1,1,1,1,1,1,2,2,5,3,6\n",
      "Enter comma seperated values for tuple :  1\n"
     ]
    },
    {
     "name": "stdout",
     "output_type": "stream",
     "text": [
      "1 appears 6 times in the tuple\n"
     ]
    }
   ],
   "source": [
    "#29 Write a code that takes tuple & element as input. The function should return the count of occurences of the given element\n",
    "# in the tuple\n",
    "\n",
    "t1=tuple(input('Enter comma seperated values for tuple : ').split(\",\"))\n",
    "ele=input('Enter comma seperated values for tuple : ')\n",
    "\n",
    "b=0\n",
    "i=0\n",
    "for i in range(len(t1)):\n",
    "    if ele==t1[i]:\n",
    "            b=b+1\n",
    "print(f\"{ele} appears {b} times in the tuple\")\n",
    "               \n"
   ]
  },
  {
   "cell_type": "code",
   "execution_count": null,
   "id": "f4ad1001-0aa4-426c-995c-f4094cbb4605",
   "metadata": {},
   "outputs": [],
   "source": [
    "\n",
    "\n"
   ]
  },
  {
   "cell_type": "code",
   "execution_count": null,
   "id": "190876e6-f923-4ab9-8067-1f539eacb1d6",
   "metadata": {},
   "outputs": [],
   "source": []
  },
  {
   "cell_type": "code",
   "execution_count": 11,
   "id": "74a738de-aa86-44fd-89c8-c284d6296e1b",
   "metadata": {},
   "outputs": [
    {
     "name": "stdin",
     "output_type": "stream",
     "text": [
      "Enter comma seperated values for first set :  1,2,3\n",
      "Enter comma seperated values for second set :  4,5,3\n"
     ]
    },
    {
     "name": "stdout",
     "output_type": "stream",
     "text": [
      " The symmetric difference of two sets is {'1', '4', '2', '5'}\n"
     ]
    }
   ],
   "source": [
    "#Q30 Develop a code that prompts the user to input two sets of string.  Then print the symmetric difference between two sets\n",
    "\n",
    "s1=set(input('Enter comma seperated values for first set : ').split(\",\"))\n",
    "s2=set(input('Enter comma seperated values for second set : ').split(\",\"))\n",
    "\n",
    "print(f\" The symmetric difference of two sets is {s1^s2}\")"
   ]
  },
  {
   "cell_type": "code",
   "execution_count": null,
   "id": "7ea4b601-d19a-4dd3-bc80-ad0df0ff94e2",
   "metadata": {},
   "outputs": [],
   "source": [
    "\n",
    "\n"
   ]
  },
  {
   "cell_type": "code",
   "execution_count": 13,
   "id": "07f5a9d3-0612-491c-af09-50efbbf3ec00",
   "metadata": {},
   "outputs": [
    {
     "name": "stdin",
     "output_type": "stream",
     "text": [
      "Enter the length of list you wish to create 7\n",
      "Input the integer that needs to be present in list h\n",
      "Input the integer that needs to be present in list h\n",
      "Input the integer that needs to be present in list h\n",
      "Input the integer that needs to be present in list e\n",
      "Input the integer that needs to be present in list e\n",
      "Input the integer that needs to be present in list l\n",
      "Input the integer that needs to be present in list o\n"
     ]
    },
    {
     "name": "stdout",
     "output_type": "stream",
     "text": [
      "The entered list is ['h', 'h', 'h', 'e', 'e', 'l', 'o']\n",
      "{'h': 3, 'e': 2, 'l': 1, 'o': 1}\n"
     ]
    }
   ],
   "source": [
    "#Q31 Write a code that takes list of words as input and returns a dictionary where the keys are unique words & \n",
    "# the values are the frequencies of those words in the input list.\n",
    "\n",
    "\n",
    "n=int(input(\"Enter the length of list you wish to create\"))\n",
    "list=[]\n",
    "S={}\n",
    "if n==\"\" or n==0:\n",
    "    print(\"The length should be positive\")\n",
    "else:\n",
    "    for i in range(n):\n",
    "        e=input(\"Input the integer that needs to be present in list\")\n",
    "        list.append(e)\n",
    "\n",
    "print(f\"The entered list is {list}\")\n",
    "\n",
    "for i in list:\n",
    "    S[i]=list.count(i)\n",
    "\n",
    "print(S) \n"
   ]
  },
  {
   "cell_type": "code",
   "execution_count": null,
   "id": "ac555ec7-a7ee-4302-80ba-33dc93d473e0",
   "metadata": {},
   "outputs": [],
   "source": [
    "\n",
    "\n"
   ]
  },
  {
   "cell_type": "code",
   "execution_count": 7,
   "id": "83e58952-abd3-4727-acdd-593ef9e9c8a6",
   "metadata": {},
   "outputs": [
    {
     "name": "stdin",
     "output_type": "stream",
     "text": [
      "Enter the first dictionary (e.g., {'a': 1, 'b': 2}): {'a':5,'b':2}\n",
      "Enter the second dictionary (e.g., {'a': 1, 'b': 2}): {'c':8}\n"
     ]
    },
    {
     "name": "stdout",
     "output_type": "stream",
     "text": [
      "Merged Dictionary: {'a': 5, 'b': 2, 'c': 8}\n"
     ]
    }
   ],
   "source": [
    "#Q32 Write a code that takes two dictionaries as input and merges them into a single dictionary. If there are\n",
    "# common keys the values should be added together\n",
    "\n",
    "def merge_dictionaries(dict1, dict2):\n",
    "    \n",
    "    merged_dict = {}\n",
    "\n",
    "   \n",
    "    for key, value in dict1.items():\n",
    "        if key in merged_dict:\n",
    "            merged_dict[key] += value\n",
    "        else:\n",
    "            merged_dict[key] = value\n",
    "\n",
    "   \n",
    "    for key, value in dict2.items():\n",
    "        if key in merged_dict:\n",
    "            merged_dict[key] += value\n",
    "        else:\n",
    "            merged_dict[key] = value\n",
    "\n",
    "    return merged_dict\n",
    "\n",
    "\n",
    "dict1= eval(input((\"Enter the first dictionary (e.g., {'a': 1, 'b': 2}):\")))\n",
    "dict2= eval(input((\"Enter the Second dictionary (e.g., {'a': 1, 'b': 2}):\")))\n",
    "\n",
    "\n",
    "result = merge_dictionaries(dict1, dict2)\n",
    "\n",
    "print(\"Merged Dictionary:\", result)"
   ]
  },
  {
   "cell_type": "code",
   "execution_count": null,
   "id": "03d88eab-c797-4697-8e36-55717712d90d",
   "metadata": {},
   "outputs": [],
   "source": [
    "\n",
    "\n",
    "\n",
    "\n"
   ]
  },
  {
   "cell_type": "code",
   "execution_count": 19,
   "id": "9e0b0e6c-c298-4bbc-a053-a350e3a3b67a",
   "metadata": {},
   "outputs": [
    {
     "name": "stdout",
     "output_type": "stream",
     "text": [
      "42\n",
      "None\n"
     ]
    }
   ],
   "source": [
    "#Q33  Write a code to access a value in nested dictionary. The function should take a dictionary & a list of keys as input and return\n",
    "#  the corresponding value. If any of the keys do not exist in the dictionary, the function should return none.\n",
    "\n",
    "\n",
    "\n",
    "def get_nested_value(d, keys):\n",
    "\n",
    "    current = d\n",
    "    for key in keys:\n",
    "        if  key in current:\n",
    "            current = current[key]\n",
    "        else:\n",
    "            return None\n",
    "    return current\n",
    "\n",
    "# Example usage\n",
    "nested_dict = {\n",
    "    'a': {\n",
    "        'b': {\n",
    "            'c': 42\n",
    "        }\n",
    "    }\n",
    "}\n",
    "\n",
    "keys = ['a', 'b', 'c']\n",
    "print(get_nested_value(nested_dict, keys))  # Output: 42\n",
    "\n",
    "keys = ['a', 'b', 'd']\n",
    "print(get_nested_value(nested_dict, keys))  # Output: None"
   ]
  },
  {
   "cell_type": "code",
   "execution_count": null,
   "id": "d80d90e5-94f4-41f4-8f7a-e8a0aa0b399f",
   "metadata": {},
   "outputs": [],
   "source": [
    "\n",
    "\n"
   ]
  },
  {
   "cell_type": "code",
   "execution_count": 32,
   "id": "6b71c0d9-fce2-4fa0-b7f0-1e8be8f46062",
   "metadata": {},
   "outputs": [
    {
     "name": "stdin",
     "output_type": "stream",
     "text": [
      "Enter the first dictionary (e.g., {'a': 1, 'b': 2}): {'a': 3, 'b': 1, 'c': 2}\n"
     ]
    },
    {
     "name": "stdout",
     "output_type": "stream",
     "text": [
      "{('a', 3), ('b', 1), ('c', 2)}\n"
     ]
    }
   ],
   "source": [
    "#Q34 Write a code that takes a dictionary as input and return a sorted version of it based on the values.\n",
    "#    You can chose whether to sort in ascending or descending\n",
    "\n",
    "dict1= eval(input((\"Enter the first dictionary (e.g., {'a': 1, 'b': 2}):\")))     \n",
    "\n",
    "sorted_items = sorted(dict1.items(), key=lambda item: item[1])\n",
    "    \n",
    "print(set(sorted_items))\n",
    "    "
   ]
  },
  {
   "cell_type": "code",
   "execution_count": null,
   "id": "1d3bf3dd-8b1d-469d-b738-3e42c7ee236f",
   "metadata": {},
   "outputs": [],
   "source": [
    "\n",
    "\n"
   ]
  },
  {
   "cell_type": "code",
   "execution_count": 34,
   "id": "aa1d0f05-58fe-4498-b51a-42ffd3ba45a9",
   "metadata": {},
   "outputs": [
    {
     "name": "stdout",
     "output_type": "stream",
     "text": [
      "{1: ['a', 'c'], 2: ['b', 'e'], 3: 'd'}\n"
     ]
    }
   ],
   "source": [
    "#Q35 Write a code that inverts a dictionary swapping keys and values. Ensure that inverted dictionary correctly handles\n",
    "# cases where multiple keys have same value by storing the keys as a list in the inverted dictionary\n",
    "\n",
    "def invert_dict(d):\n",
    "  \n",
    "    inverted = {}\n",
    "    \n",
    "    for key, value in d.items():\n",
    "        if value in inverted:\n",
    "            if isinstance(inverted[value], list):\n",
    "                inverted[value].append(key)\n",
    "            else:\n",
    "                inverted[value] = [inverted[value], key]\n",
    "        else:\n",
    "            inverted[value] = key\n",
    "    \n",
    "    return inverted\n",
    "\n",
    "# Example usage\n",
    "original_dict = {'a': 1,'b': 2,'c': 1,'d': 3,'e': 2}\n",
    "\n",
    "# Invert the dictionary\n",
    "inverted_dict = invert_dict(original_dict)\n",
    "print(inverted_dict)\n"
   ]
  },
  {
   "cell_type": "code",
   "execution_count": null,
   "id": "690e86e6-b236-4c7a-964c-c7d8017a04d3",
   "metadata": {},
   "outputs": [],
   "source": []
  }
 ],
 "metadata": {
  "kernelspec": {
   "display_name": "Python 3 (ipykernel)",
   "language": "python",
   "name": "python3"
  },
  "language_info": {
   "codemirror_mode": {
    "name": "ipython",
    "version": 3
   },
   "file_extension": ".py",
   "mimetype": "text/x-python",
   "name": "python",
   "nbconvert_exporter": "python",
   "pygments_lexer": "ipython3",
   "version": "3.10.8"
  }
 },
 "nbformat": 4,
 "nbformat_minor": 5
}
